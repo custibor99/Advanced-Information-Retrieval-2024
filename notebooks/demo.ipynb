{
 "cells": [
  {
   "cell_type": "code",
   "execution_count": 81,
   "metadata": {},
   "outputs": [],
   "source": [
    "from dataclasses import dataclass\n",
    "from typing import Iterator\n",
    "from collections import Counter\n",
    "import re\n",
    "\n",
    "\n",
    "\n",
    "@dataclass\n",
    "class Document:\n",
    "    id: int\n",
    "    title: str\n",
    "    text: str\n",
    "\n",
    "stopwords = open(\"../data/stopwords.txt\").readlines()\n",
    "stopwords = set([word.lower().strip() for word in stopwords])\n"
   ]
  },
  {
   "cell_type": "code",
   "execution_count": 89,
   "metadata": {},
   "outputs": [],
   "source": [
    "def get_cisi_generator(filename:str) -> Iterator[Document]:\n",
    "    documents = {}\n",
    "    with open(filename, \"r\") as file:\n",
    "        id = 0\n",
    "        title = \"\"\n",
    "        text = \"\"\n",
    "        while True:\n",
    "            line = file.readline()\n",
    "            if not line:\n",
    "                break\n",
    "            if line[0:2] == \".I\":\n",
    "                id = int(line.split(\" \")[1])\n",
    "            if line[0:2] == \".T\":\n",
    "                title = file.readline()\n",
    "            if line[0:2] == \".W\":\n",
    "                while True:\n",
    "                    line = file.readline()\n",
    "                    if re.match(r\".[ITAWX]\", line) is not None:\n",
    "                        document = Document(id, title, text)\n",
    "                        id = 0\n",
    "                        title = \"\"\n",
    "                        text = \"\"\n",
    "                        break\n",
    "                    else:\n",
    "                        text += line\n",
    "                yield document\n",
    "class SimpleCISITokenizer:\n",
    "    def __init__(self, stopwords:set[str]):\n",
    "        self.stopwords = stopwords\n",
    "        self.regex = re.compile(r\"[a-zA-Z]+\")\n",
    "    \n",
    "    def tokenize(self, text:str) -> list[str]:\n",
    "        res = re.findall(self.regex, text.lower())\n",
    "        return [token for token in res if token not in self.stopwords]\n"
   ]
  },
  {
   "cell_type": "markdown",
   "metadata": {},
   "source": [
    "#### Read documents"
   ]
  },
  {
   "cell_type": "code",
   "execution_count": 98,
   "metadata": {},
   "outputs": [],
   "source": [
    "cisi_generator = get_cisi_generator(\"../data/CISI.ALL\")\n",
    "documents = { document.id:document for document in cisi_generator }    "
   ]
  },
  {
   "cell_type": "markdown",
   "metadata": {},
   "source": [
    "#### Get document term counts"
   ]
  },
  {
   "cell_type": "code",
   "execution_count": 105,
   "metadata": {},
   "outputs": [],
   "source": [
    "tokenizer = SimpleCISITokenizer(stopwords)\n",
    "document_term_counts = Counter(tokenizer.tokenize(documents[1].text))"
   ]
  },
  {
   "cell_type": "code",
   "execution_count": null,
   "metadata": {},
   "outputs": [],
   "source": []
  }
 ],
 "metadata": {
  "kernelspec": {
   "display_name": ".venv",
   "language": "python",
   "name": "python3"
  },
  "language_info": {
   "codemirror_mode": {
    "name": "ipython",
    "version": 3
   },
   "file_extension": ".py",
   "mimetype": "text/x-python",
   "name": "python",
   "nbconvert_exporter": "python",
   "pygments_lexer": "ipython3",
   "version": "3.11.4"
  }
 },
 "nbformat": 4,
 "nbformat_minor": 2
}
